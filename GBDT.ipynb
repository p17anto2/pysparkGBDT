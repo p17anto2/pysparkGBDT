{
 "cells": [
  {
   "cell_type": "markdown",
   "id": "finnish-equity",
   "metadata": {},
   "source": [
    "## Initialization\n",
    "\n",
    "Import findspark and initialize, then import pyspark and sparkSession and create a Spark Session"
   ]
  },
  {
   "cell_type": "code",
   "execution_count": null,
   "id": "baking-adrian",
   "metadata": {},
   "outputs": [],
   "source": [
    "import findspark\n",
    "findspark.init()\n",
    "\n",
    "import pyspark\n",
    "from pyspark.sql import SparkSession\n",
    "\n",
    "spark = SparkSession.builder.master(\"<spark url>\") \\\n",
    "                            .appName(\"GBDT\") \\\n",
    "                            .config(\"spark.executor.instances\", \"1\") \\\n",
    "                            .config(\"spark.executor.cores\", \"2\") \\\n",
    "                            .config(\"spark.executor.memory\", \"1536m\") \\\n",
    "                            .getOrCreate()"
   ]
  },
  {
   "cell_type": "markdown",
   "id": "spread-liberia",
   "metadata": {},
   "source": [
    "Create schema and Dataframe"
   ]
  },
  {
   "cell_type": "code",
   "execution_count": null,
   "id": "permanent-situation",
   "metadata": {},
   "outputs": [],
   "source": [
    "from pyspark.sql.types import StructType, StructField, StringType, IntegerType, BooleanType,\\\n",
    "                                FloatType, LongType, DecimalType\n",
    "schema = StructType([ \\\n",
    "                     StructField('index', StringType(), True), \\\n",
    "                     StructField('app_id', LongType(), True), \\\n",
    "                     StructField('app_name', StringType(), True), \\\n",
    "                     StructField('review_id', LongType(), True), \\\n",
    "                     StructField('language', StringType(), True), \\\n",
    "                     StructField('review', StringType(), True), \\\n",
    "                     StructField('timestamp_created', LongType(), True), \\\n",
    "                     StructField('timestamp_updated', LongType(), True), \\\n",
    "                     StructField('recommended', BooleanType(), True), \\\n",
    "                     StructField('votes_helpful', IntegerType(), True), \\\n",
    "                     StructField('votes_funny', IntegerType(), True), \\\n",
    "                     StructField('weighted_vote_score', FloatType(), True), \\\n",
    "                     StructField('comment_count', IntegerType(), True), \\\n",
    "                     StructField('steam_purchase', BooleanType(), True), \\\n",
    "                     StructField('received_for_free', BooleanType(), True), \\\n",
    "                     StructField('written_during_early_access', BooleanType(), True), \\\n",
    "                     StructField('author_steamid', LongType(), True), \\\n",
    "                     StructField('author_num_games_owned', IntegerType(), True), \\\n",
    "                     StructField('author_num_reviews', IntegerType(), True), \\\n",
    "                     StructField('author_playtime_forever', DecimalType(), True), \\\n",
    "                     StructField('author_playtime_last_two_weeks', DecimalType(), True), \\\n",
    "                     StructField('author_playtime_at_review', DecimalType(), True), \\\n",
    "                     StructField('author_last_played', FloatType(), True), \\\n",
    "                    ])"
   ]
  },
  {
   "cell_type": "code",
   "execution_count": null,
   "id": "natural-notification",
   "metadata": {},
   "outputs": [],
   "source": [
    "from pyspark.sql.functions import col\n",
    "\n",
    "df = spark.read.csv(\"steam_reviews.csv\", header = True, schema = schema, multiLine = True,\\\n",
    "                    lineSep = \"\\r\")\n",
    "df = df.drop(\"review\", \"index\", \"app_name\", \"language\")\n",
    "df = df.withColumn(\"recommended\",col(\"recommended\").cast(IntegerType()))\n",
    "df = df.na.drop()"
   ]
  },
  {
   "cell_type": "markdown",
   "id": "american-difficulty",
   "metadata": {},
   "source": [
    "Prepare data for Classification"
   ]
  },
  {
   "cell_type": "code",
   "execution_count": null,
   "id": "incorporate-intent",
   "metadata": {},
   "outputs": [],
   "source": [
    "from pyspark.ml.feature import VectorAssembler\n",
    "\n",
    "cols = df.columns\n",
    "cols.remove(\"recommended\")\n",
    "assembler = VectorAssembler(inputCols = cols, outputCol = \"features\")\n",
    "\n",
    "data = assembler.transform(df)\n",
    "data = data.select(\"features\", \"recommended\")\n",
    "data.show(truncate = False)"
   ]
  },
  {
   "cell_type": "code",
   "execution_count": null,
   "id": "distinct-victoria",
   "metadata": {},
   "outputs": [],
   "source": [
    "train, test = data.randomSplit([0.9, 0.1])"
   ]
  },
  {
   "cell_type": "code",
   "execution_count": null,
   "id": "roman-telephone",
   "metadata": {},
   "outputs": [],
   "source": [
    "from pyspark.ml.classification import GBTClassifier\n",
    "from pyspark.ml.evaluation import MulticlassClassificationEvaluator\n",
    "import time\n",
    "\n",
    "t = time.time()\n",
    "\n",
    "gbt = GBTClassifier(labelCol = \"recommended\", featuresCol = \"features\")\n",
    "train.cache()\n",
    "model = gbt.fit(train)\n",
    "prediction_test = model.transform(test)\n",
    "evaluator = MulticlassClassificationEvaluator(predictionCol='prediction', labelCol='recommended',\\\n",
    "                                          metricName='accuracy')\n",
    "evaluator.evaluate(prediction_test)\n",
    "duration = (time.time() - t)\n",
    "train.unpersist()\n",
    "duration"
   ]
  },
  {
   "cell_type": "code",
   "execution_count": null,
   "id": "promotional-segment",
   "metadata": {},
   "outputs": [],
   "source": []
  }
 ],
 "metadata": {
  "kernelspec": {
   "display_name": "Python 3",
   "language": "python",
   "name": "python3"
  },
  "language_info": {
   "codemirror_mode": {
    "name": "ipython",
    "version": 3
   },
   "file_extension": ".py",
   "mimetype": "text/x-python",
   "name": "python",
   "nbconvert_exporter": "python",
   "pygments_lexer": "ipython3",
   "version": "3.9.1"
  }
 },
 "nbformat": 4,
 "nbformat_minor": 5
}
